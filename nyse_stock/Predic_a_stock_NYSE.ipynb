{
 "cells": [
  {
   "cell_type": "markdown",
   "metadata": {},
   "source": [
    "# A Stock from NYSE"
   ]
  },
  {
   "cell_type": "code",
   "execution_count": 223,
   "metadata": {},
   "outputs": [
    {
     "data": {
      "text/plain": [
       "'/home/guanshim/Kaggle/nyse_stock'"
      ]
     },
     "execution_count": 223,
     "metadata": {},
     "output_type": "execute_result"
    }
   ],
   "source": [
    "# import modules\n",
    "import numpy as np\n",
    "import pandas as pd \n",
    "# import the logistic regression function\n",
    "from sklearn import svm\n",
    "from sklearn.model_selection import StratifiedKFold\n",
    "from scipy import interp\n",
    "\n",
    "# plot \n",
    "import matplotlib.pyplot as plt\n",
    "%matplotlib inline\n",
    "\n",
    "from datetime import datetime\n",
    "from datetime import timedelta\n",
    "# model evaluation\n",
    "from sklearn.metrics import roc_curve, auc\n",
    "# get the current folder\n",
    "import os\n",
    "os.getcwd()"
   ]
  },
  {
   "cell_type": "markdown",
   "metadata": {},
   "source": [
    "## The Data\n",
    "New York Stock Exchange S&P 500 companies historical prices with fundamental data. The data is public available at [Kaggle](https://www.kaggle.com/dgawlik/nyse#prices-split-adjusted.csv). (https://www.kaggle.com/dgawlik/nyse#prices-split-adjusted.csv)\n",
    "\n",
    "The dataset we used is the prices-split-adjusted.csv, which contains daily prices. Most of data spans from 2010 to the end 2016. And there have been added adjustments for splits."
   ]
  },
  {
   "cell_type": "code",
   "execution_count": 224,
   "metadata": {},
   "outputs": [
    {
     "data": {
      "text/html": [
       "<div>\n",
       "<style scoped>\n",
       "    .dataframe tbody tr th:only-of-type {\n",
       "        vertical-align: middle;\n",
       "    }\n",
       "\n",
       "    .dataframe tbody tr th {\n",
       "        vertical-align: top;\n",
       "    }\n",
       "\n",
       "    .dataframe thead th {\n",
       "        text-align: right;\n",
       "    }\n",
       "</style>\n",
       "<table border=\"1\" class=\"dataframe\">\n",
       "  <thead>\n",
       "    <tr style=\"text-align: right;\">\n",
       "      <th></th>\n",
       "      <th>date</th>\n",
       "      <th>symbol</th>\n",
       "      <th>open</th>\n",
       "      <th>close</th>\n",
       "      <th>low</th>\n",
       "      <th>high</th>\n",
       "      <th>volume</th>\n",
       "    </tr>\n",
       "  </thead>\n",
       "  <tbody>\n",
       "    <tr>\n",
       "      <th>0</th>\n",
       "      <td>2016-01-05</td>\n",
       "      <td>WLTW</td>\n",
       "      <td>123.430000</td>\n",
       "      <td>125.839996</td>\n",
       "      <td>122.309998</td>\n",
       "      <td>126.250000</td>\n",
       "      <td>2163600.0</td>\n",
       "    </tr>\n",
       "    <tr>\n",
       "      <th>1</th>\n",
       "      <td>2016-01-06</td>\n",
       "      <td>WLTW</td>\n",
       "      <td>125.239998</td>\n",
       "      <td>119.980003</td>\n",
       "      <td>119.940002</td>\n",
       "      <td>125.540001</td>\n",
       "      <td>2386400.0</td>\n",
       "    </tr>\n",
       "    <tr>\n",
       "      <th>2</th>\n",
       "      <td>2016-01-07</td>\n",
       "      <td>WLTW</td>\n",
       "      <td>116.379997</td>\n",
       "      <td>114.949997</td>\n",
       "      <td>114.930000</td>\n",
       "      <td>119.739998</td>\n",
       "      <td>2489500.0</td>\n",
       "    </tr>\n",
       "  </tbody>\n",
       "</table>\n",
       "</div>"
      ],
      "text/plain": [
       "         date symbol        open       close         low        high  \\\n",
       "0  2016-01-05   WLTW  123.430000  125.839996  122.309998  126.250000   \n",
       "1  2016-01-06   WLTW  125.239998  119.980003  119.940002  125.540001   \n",
       "2  2016-01-07   WLTW  116.379997  114.949997  114.930000  119.739998   \n",
       "\n",
       "      volume  \n",
       "0  2163600.0  \n",
       "1  2386400.0  \n",
       "2  2489500.0  "
      ]
     },
     "execution_count": 224,
     "metadata": {},
     "output_type": "execute_result"
    }
   ],
   "source": [
    "# load data select stock\n",
    "# the data was stored in the current work dir\n",
    "dt =  pd.read_csv('prices-split-adjusted.csv', header=0)\n",
    "dt.head(3)"
   ]
  },
  {
   "cell_type": "markdown",
   "metadata": {},
   "source": [
    "There are 501 unique stock symbols."
   ]
  },
  {
   "cell_type": "code",
   "execution_count": 225,
   "metadata": {},
   "outputs": [
    {
     "name": "stdout",
     "output_type": "stream",
     "text": [
      "501\n",
      "(851264, 7)\n"
     ]
    }
   ],
   "source": [
    "# number of stock\n",
    "print(len(np.unique(dt['symbol'])))\n",
    "print(dt.shape)"
   ]
  },
  {
   "cell_type": "markdown",
   "metadata": {},
   "source": [
    "### Choose a Stock\n",
    "Pfizer Inc. is an American pharmaceutical corporation headquartered in New York City, with its research headquarters in Groton, Connecticut. It is one of the world's largest pharmaceutical companies. Its symbol is \"PFE\".\n",
    "\n",
    "And there are 1762 trading days for PFE in the dataset.\n",
    "And YHOO was also tested. "
   ]
  },
  {
   "cell_type": "code",
   "execution_count": 226,
   "metadata": {},
   "outputs": [
    {
     "name": "stdout",
     "output_type": "stream",
     "text": [
      "(1762, 7)\n"
     ]
    }
   ],
   "source": [
    "pfe_raw = dt[dt['symbol'] == 'PFE']\n",
    "print(pfe_raw.shape)\n",
    "# pfe = pfe_raw.astype('float32')\n",
    "# pfe"
   ]
  },
  {
   "cell_type": "markdown",
   "metadata": {},
   "source": [
    "Close price overview."
   ]
  },
  {
   "cell_type": "code",
   "execution_count": 227,
   "metadata": {},
   "outputs": [
    {
     "data": {
      "image/png": "[encoded data removed]",
      "text/plain": [
       "<Figure size 432x288 with 1 Axes>"
      ]
     },
     "metadata": {},
     "output_type": "display_data"
    }
   ],
   "source": [
    "pfe_close = pfe_raw.close.values.astype('float32')\n",
    "pfe_close = pfe_close.reshape(1762, 1)\n",
    "\n",
    "plt.plot(pfe_close)\n",
    "plt.xlabel(\"Days\")\n",
    "plt.ylabel('Daily Close Prize $')\n",
    "plt.suptitle('PFE Daily Close Price')\n",
    "plt.show()\n"
   ]
  },
  {
   "cell_type": "markdown",
   "metadata": {},
   "source": [
    "### Data Preprocessing\n",
    "We will predict the daily stock movement directionality, either up or down by comparing today's close price with yesterday's.\n",
    "\n",
    "Now we have a binary outcome, up is coded as 1, down is coded as 0, the movement of the first day is defined by the comparison of the open and close price. \n",
    "\n",
    "If the between days close prices are equal, we consider it as \"down\". "
   ]
  },
  {
   "cell_type": "code",
   "execution_count": 228,
   "metadata": {},
   "outputs": [
    {
     "data": {
      "text/html": [
       "<div>\n",
       "<style scoped>\n",
       "    .dataframe tbody tr th:only-of-type {\n",
       "        vertical-align: middle;\n",
       "    }\n",
       "\n",
       "    .dataframe tbody tr th {\n",
       "        vertical-align: top;\n",
       "    }\n",
       "\n",
       "    .dataframe thead th {\n",
       "        text-align: right;\n",
       "    }\n",
       "</style>\n",
       "<table border=\"1\" class=\"dataframe\">\n",
       "  <thead>\n",
       "    <tr style=\"text-align: right;\">\n",
       "      <th></th>\n",
       "      <th>date</th>\n",
       "      <th>symbol</th>\n",
       "      <th>open</th>\n",
       "      <th>close</th>\n",
       "      <th>low</th>\n",
       "      <th>high</th>\n",
       "      <th>volume</th>\n",
       "    </tr>\n",
       "  </thead>\n",
       "  <tbody>\n",
       "    <tr>\n",
       "      <th>0</th>\n",
       "      <td>2010-01-04</td>\n",
       "      <td>PFE</td>\n",
       "      <td>18.27</td>\n",
       "      <td>18.93</td>\n",
       "      <td>18.240000</td>\n",
       "      <td>18.940001</td>\n",
       "      <td>52086000.0</td>\n",
       "    </tr>\n",
       "    <tr>\n",
       "      <th>1</th>\n",
       "      <td>2010-01-05</td>\n",
       "      <td>PFE</td>\n",
       "      <td>18.92</td>\n",
       "      <td>18.66</td>\n",
       "      <td>18.549999</td>\n",
       "      <td>18.930000</td>\n",
       "      <td>43372800.0</td>\n",
       "    </tr>\n",
       "    <tr>\n",
       "      <th>2</th>\n",
       "      <td>2010-01-06</td>\n",
       "      <td>PFE</td>\n",
       "      <td>18.66</td>\n",
       "      <td>18.60</td>\n",
       "      <td>18.510000</td>\n",
       "      <td>18.809999</td>\n",
       "      <td>41405100.0</td>\n",
       "    </tr>\n",
       "  </tbody>\n",
       "</table>\n",
       "</div>"
      ],
      "text/plain": [
       "         date symbol   open  close        low       high      volume\n",
       "0  2010-01-04    PFE  18.27  18.93  18.240000  18.940001  52086000.0\n",
       "1  2010-01-05    PFE  18.92  18.66  18.549999  18.930000  43372800.0\n",
       "2  2010-01-06    PFE  18.66  18.60  18.510000  18.809999  41405100.0"
      ]
     },
     "execution_count": 228,
     "metadata": {},
     "output_type": "execute_result"
    }
   ],
   "source": [
    "# pfe_raw.set_index([x for x in range(len(pfe_raw.index)) ])\n",
    "s = pd.Series(range(len(pfe_raw.index)))\n",
    "pfe_raw = pfe_raw.set_index(s)\n",
    "pfe_raw.head(3)"
   ]
  },
  {
   "cell_type": "code",
   "execution_count": 229,
   "metadata": {},
   "outputs": [
    {
     "data": {
      "text/html": [
       "<div>\n",
       "<style scoped>\n",
       "    .dataframe tbody tr th:only-of-type {\n",
       "        vertical-align: middle;\n",
       "    }\n",
       "\n",
       "    .dataframe tbody tr th {\n",
       "        vertical-align: top;\n",
       "    }\n",
       "\n",
       "    .dataframe thead th {\n",
       "        text-align: right;\n",
       "    }\n",
       "</style>\n",
       "<table border=\"1\" class=\"dataframe\">\n",
       "  <thead>\n",
       "    <tr style=\"text-align: right;\">\n",
       "      <th></th>\n",
       "      <th>date</th>\n",
       "      <th>symbol</th>\n",
       "      <th>open</th>\n",
       "      <th>close</th>\n",
       "      <th>low</th>\n",
       "      <th>high</th>\n",
       "      <th>volume</th>\n",
       "      <th>direction</th>\n",
       "    </tr>\n",
       "  </thead>\n",
       "  <tbody>\n",
       "    <tr>\n",
       "      <th>0</th>\n",
       "      <td>2010-01-04</td>\n",
       "      <td>PFE</td>\n",
       "      <td>18.27</td>\n",
       "      <td>18.93</td>\n",
       "      <td>18.240000</td>\n",
       "      <td>18.940001</td>\n",
       "      <td>52086000.0</td>\n",
       "      <td>1</td>\n",
       "    </tr>\n",
       "    <tr>\n",
       "      <th>1</th>\n",
       "      <td>2010-01-05</td>\n",
       "      <td>PFE</td>\n",
       "      <td>18.92</td>\n",
       "      <td>18.66</td>\n",
       "      <td>18.549999</td>\n",
       "      <td>18.930000</td>\n",
       "      <td>43372800.0</td>\n",
       "      <td>0</td>\n",
       "    </tr>\n",
       "    <tr>\n",
       "      <th>2</th>\n",
       "      <td>2010-01-06</td>\n",
       "      <td>PFE</td>\n",
       "      <td>18.66</td>\n",
       "      <td>18.60</td>\n",
       "      <td>18.510000</td>\n",
       "      <td>18.809999</td>\n",
       "      <td>41405100.0</td>\n",
       "      <td>0</td>\n",
       "    </tr>\n",
       "  </tbody>\n",
       "</table>\n",
       "</div>"
      ],
      "text/plain": [
       "         date symbol   open  close        low       high      volume  \\\n",
       "0  2010-01-04    PFE  18.27  18.93  18.240000  18.940001  52086000.0   \n",
       "1  2010-01-05    PFE  18.92  18.66  18.549999  18.930000  43372800.0   \n",
       "2  2010-01-06    PFE  18.66  18.60  18.510000  18.809999  41405100.0   \n",
       "\n",
       "   direction  \n",
       "0          1  \n",
       "1          0  \n",
       "2          0  "
      ]
     },
     "execution_count": 229,
     "metadata": {},
     "output_type": "execute_result"
    }
   ],
   "source": [
    "direction = []\n",
    "for day in range(len(pfe_raw.index)):\n",
    "    if day == 0:\n",
    "        if (pfe_raw.loc[day, 'close'] - pfe_raw.loc[day, 'open']) > 0:\n",
    "            direction.append(1)\n",
    "        else:\n",
    "            direction.append(0)\n",
    "    else:\n",
    "        if (pfe_raw.loc[day, 'close'] - pfe_raw.loc[(day-1), 'close']) > 0:\n",
    "            direction.append(1)\n",
    "        else:\n",
    "            direction.append(0)\n",
    "pfe_raw['direction'] = np.asarray(direction)\n",
    "pfe_raw.head(3)"
   ]
  },
  {
   "cell_type": "markdown",
   "metadata": {},
   "source": [
    "Split the data to training and test based on date. We want to use 80% training and 20% testing. Thus, the first 1410 days are for training, the remainings are for testing.\n",
    "\n",
    "This type of split took the over-time correlation into consideration."
   ]
  },
  {
   "cell_type": "code",
   "execution_count": 230,
   "metadata": {},
   "outputs": [
    {
     "data": {
      "text/plain": [
       "'2015-08-11'"
      ]
     },
     "execution_count": 230,
     "metadata": {},
     "output_type": "execute_result"
    }
   ],
   "source": [
    "# the split data time point\n",
    "# base = pfe_raw.loc[0, 'date']\n",
    "# cut = datetime.strptime(base, '%Y-%m-%d') + timedelta(days=  np.round(0.8 * len(pfe_raw.index)) ) \n",
    "\n",
    "# cut_day = '2013-11-14'\n",
    "# cut\n",
    "cut_day = pfe_raw.loc[np.round(0.8 * len(pfe_raw.index)), 'date']\n",
    "cut_day"
   ]
  },
  {
   "cell_type": "code",
   "execution_count": 231,
   "metadata": {},
   "outputs": [],
   "source": [
    "pfe = pfe_raw.copy()\n",
    "days = pd.Series(pfe_raw.index)"
   ]
  },
  {
   "cell_type": "code",
   "execution_count": 232,
   "metadata": {},
   "outputs": [
    {
     "name": "stdout",
     "output_type": "stream",
     "text": [
      "(1410, 9)\n",
      "         date symbol   open  close        low       high      volume  \\\n",
      "0  2010-01-04    PFE  18.27  18.93  18.240000  18.940001  52086000.0   \n",
      "1  2010-01-05    PFE  18.92  18.66  18.549999  18.930000  43372800.0   \n",
      "2  2010-01-06    PFE  18.66  18.60  18.510000  18.809999  41405100.0   \n",
      "\n",
      "   direction  days  \n",
      "0          1     0  \n",
      "1          0     1  \n",
      "2          0     2  \n"
     ]
    }
   ],
   "source": [
    "# train\n",
    "pfe['days'] = days\n",
    "train = pfe[pfe['date'] < cut_day]\n",
    "test = pfe[pfe['date'] >= cut_day]\n",
    "print(train.shape)\n",
    "print(train.head(3))"
   ]
  },
  {
   "cell_type": "markdown",
   "metadata": {},
   "source": [
    "## Train the model "
   ]
  },
  {
   "cell_type": "markdown",
   "metadata": {},
   "source": [
    "sklearn.svm.SVC\n",
    "\n",
    "kernel : string, optional (default=’rbf’)\n",
    "\n",
    "gamma: float, optional (default=’auto’)Kernel coefficient for ‘rbf’, ‘poly’ and ‘sigmoid’.\n",
    "    \n",
    "\n",
    "10-fold cross validation was used here."
   ]
  },
  {
   "cell_type": "code",
   "execution_count": 233,
   "metadata": {},
   "outputs": [],
   "source": [
    "# model fitting\n",
    "X_train = train[['open','low','high','volume']]\n",
    "y_train = train['direction']\n",
    "n_samples, n_features = X_train.shape\n"
   ]
  },
  {
   "cell_type": "code",
   "execution_count": 234,
   "metadata": {},
   "outputs": [],
   "source": [
    "# all data \n",
    "data_all = pfe.copy()\n",
    "X = data_all[['open','low','high','volume']]\n",
    "y = data_all['direction']"
   ]
  },
  {
   "cell_type": "code",
   "execution_count": 235,
   "metadata": {},
   "outputs": [
    {
     "data": {
      "image/png": "[encoded data removed]",
      "text/plain": [
       "<Figure size 432x288 with 1 Axes>"
      ]
     },
     "metadata": {},
     "output_type": "display_data"
    }
   ],
   "source": [
    "# modeling fitting\n",
    "random_state = np.random.RandomState(0)\n",
    "# Run classifier with cross-validation and plot ROC curves\n",
    "cv = StratifiedKFold(n_splits=6)\n",
    "classifier = svm.SVC(gamma='auto', probability = True)\n",
    "\n",
    "tprs = []\n",
    "aucs = []\n",
    "mean_fpr = np.linspace(0, 1, 100)\n",
    "\n",
    "\n",
    "i = 0\n",
    "for train, test in cv.split(X, y):\n",
    "    probas_ = classifier.fit(X.iloc[train], y.iloc[train]).predict_proba(X.iloc[test])\n",
    "    # Compute ROC curve and area the curve\n",
    "    fpr, tpr, thresholds = roc_curve(y[test], probas_[:, 1])\n",
    "    tprs.append(interp(mean_fpr, fpr, tpr))\n",
    "    tprs[-1][0] = 0.0\n",
    "    roc_auc = auc(fpr, tpr)\n",
    "    aucs.append(roc_auc)\n",
    "    plt.plot(fpr, tpr, lw=1, alpha=0.3,\n",
    "             label='ROC fold %d (AUC = %0.2f)' % (i, roc_auc))\n",
    "\n",
    "    i += 1\n",
    "plt.plot([0, 1], [0, 1], linestyle='--', lw=2, color='r',\n",
    "         label='Chance', alpha=.8)\n",
    "\n",
    "mean_tpr = np.mean(tprs, axis=0)\n",
    "mean_tpr[-1] = 1.0\n",
    "mean_auc = auc(mean_fpr, mean_tpr)\n",
    "std_auc = np.std(aucs)\n",
    "plt.plot(mean_fpr, mean_tpr, color='b',\n",
    "         label=r'Mean ROC (AUC = %0.2f $\\pm$ %0.2f)' % (mean_auc, std_auc),\n",
    "         lw=2, alpha=.8)\n",
    "\n",
    "std_tpr = np.std(tprs, axis=0)\n",
    "tprs_upper = np.minimum(mean_tpr + std_tpr, 1)\n",
    "tprs_lower = np.maximum(mean_tpr - std_tpr, 0)\n",
    "plt.fill_between(mean_fpr, tprs_lower, tprs_upper, color='grey', alpha=.2,\n",
    "                 label=r'$\\pm$ 1 std. dev.')\n",
    "\n",
    "plt.xlim([-0.05, 1.05])\n",
    "plt.ylim([-0.05, 1.05])\n",
    "plt.xlabel('False Positive Rate')\n",
    "plt.ylabel('True Positive Rate')\n",
    "plt.title('Receiver operating characteristic example')\n",
    "plt.legend(loc=\"lower right\")\n",
    "plt.show()\n",
    "\n"
   ]
  },
  {
   "cell_type": "code",
   "execution_count": 236,
   "metadata": {},
   "outputs": [],
   "source": [
    "# test \n",
    "# X_test = train[['open','low','high','volume','days']]\n",
    "# y_test = test['direction']\n"
   ]
  },
  {
   "cell_type": "markdown",
   "metadata": {},
   "source": [
    "## Model Evaluation\n",
    "Using the ROC curve"
   ]
  },
  {
   "cell_type": "code",
   "execution_count": 237,
   "metadata": {},
   "outputs": [],
   "source": [
    "# # using the roc curve\n",
    "# # Compute ROC curve and ROC area for each class\n",
    "# fpr = dict()\n",
    "# tpr = dict()\n",
    "# roc_auc = dict()\n",
    "# for i in range(n_classes):\n",
    "#     fpr[i], tpr[i], _ = roc_curve(y_test[:, i], y_score[:, i])\n",
    "#     roc_auc[i] = auc(fpr[i], tpr[i])\n",
    "\n",
    "# # Compute micro-average ROC curve and ROC area\n",
    "# fpr[\"micro\"], tpr[\"micro\"], _ = roc_curve(y_test.ravel(), y_score.ravel())\n",
    "# roc_auc[\"micro\"] = auc(fpr[\"micro\"], tpr[\"micro\"])"
   ]
  },
  {
   "cell_type": "code",
   "execution_count": null,
   "metadata": {},
   "outputs": [],
   "source": []
  }
 ],
 "metadata": {
  "kernelspec": {
   "display_name": "Python 3",
   "language": "python",
   "name": "python3"
  },
  "language_info": {
   "codemirror_mode": {
    "name": "ipython",
    "version": 3
   },
   "file_extension": ".py",
   "mimetype": "text/x-python",
   "name": "python",
   "nbconvert_exporter": "python",
   "pygments_lexer": "ipython3",
   "version": "3.6.5"
  }
 },
 "nbformat": 4,
 "nbformat_minor": 2
}
